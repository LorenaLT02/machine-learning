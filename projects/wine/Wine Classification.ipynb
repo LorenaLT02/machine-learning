{
 "cells": [
  {
   "cell_type": "markdown",
   "metadata": {
    "deletable": true,
    "editable": true
   },
   "source": [
    "# Wine Classification"
   ]
  },
  {
   "cell_type": "markdown",
   "metadata": {
    "deletable": true,
    "editable": true
   },
   "source": [
    "In this project you'll be analyzing another set of data from the [UC Irvine Machine Learning Repository](https://archive.ics.uci.edu/ml/). \n",
    "\n",
    "Your goal is to classify wines grown in the same region of Italy, but from different cultivars (cultivated varities) of grape. The data consists of a class (1, 2, or 3) followed by 13 features as described in the [wine.names](data/wine.names) file. \n",
    "\n",
    "Follow the directions in each cell to complete the project."
   ]
  },
  {
   "cell_type": "code",
   "execution_count": 10,
   "metadata": {
    "collapsed": false,
    "deletable": true,
    "editable": true
   },
   "outputs": [],
   "source": [
    "# ======================================|\n",
    "#  DO NOT CHANGE ANYTHING IN THIS CELL! |\n",
    "# ======================================|\n",
    "\n",
    "%matplotlib inline\n",
    "\n",
    "import matplotlib.pyplot as plt\n",
    "import numpy as np\n",
    "import tensorflow as tf\n",
    "import pandas as pd"
   ]
  },
  {
   "cell_type": "code",
   "execution_count": null,
   "metadata": {
    "collapsed": false,
    "deletable": true,
    "editable": true
   },
   "outputs": [],
   "source": [
    "# Load the training data from 'data/wine_train.csv' into\n",
    "# a pandas dataframe.\n",
    "model_path = 'tmp/model.ckpt'\n",
    "\n",
    "wine_train = pd.get_dummies(pd.read_csv('data/wine_train.csv', dtype={'Class':'category'}))\n",
    "wine_test = pd.get_dummies(pd.read_csv('data/wine_test.csv', dtype={'Class':'category'}))\n",
    "\n",
    "test_features = wine_test.as_matrix()[:,:13]\n",
    "test_targets = pd.get_dummies(wine_test.Class).as_matrix()"
   ]
  },
  {
   "cell_type": "code",
   "execution_count": null,
   "metadata": {
    "collapsed": false,
    "deletable": true,
    "editable": true
   },
   "outputs": [],
   "source": [
    "# Display the first few rows from the dataframe\n",
    "# to ensure proper loading\n",
    "wine_train.head()"
   ]
  },
  {
   "cell_type": "code",
   "execution_count": null,
   "metadata": {
    "collapsed": false,
    "deletable": true,
    "editable": true
   },
   "outputs": [],
   "source": [
    "# Use the dataframe.count method to ensure\n",
    "# all 148 records were loaded\n",
    "wine_train.count ()"
   ]
  },
  {
   "cell_type": "code",
   "execution_count": null,
   "metadata": {
    "collapsed": false,
    "deletable": true,
    "editable": true
   },
   "outputs": [],
   "source": [
    "# Declare placeholders and variables for your TensorFlow model her\n",
    "x = tf.placeholder(tf.float32, [None, 13])\n",
    "y_ = tf.placeholder(tf.float32, [None,3])\n",
    "w = tf.Variable(tf.truncated_normal([13,3], stddev=0.1))\n",
    "b = tf.Variable(tf.zeros([3]))"
   ]
  },
  {
   "cell_type": "code",
   "execution_count": null,
   "metadata": {
    "collapsed": false,
    "deletable": true,
    "editable": true
   },
   "outputs": [],
   "source": [
    "# Define your TensorFlow model here or scikit-learn here\n",
    "y = tf.nn.softmax(tf.matmul(x,w) + b)"
   ]
  },
  {
   "cell_type": "code",
   "execution_count": null,
   "metadata": {
    "collapsed": true
   },
   "outputs": [],
   "source": [
    "cost = tf.reduce_mean(tf.squared_difference(y_,y))"
   ]
  },
  {
   "cell_type": "code",
   "execution_count": 9,
   "metadata": {
    "collapsed": false,
    "deletable": true,
    "editable": true
   },
   "outputs": [],
   "source": [
    "# Train the model in this cell\n",
    "Learn_rate = .103\n",
    "Batch_size = 5\n",
    "Epochs = 50\n",
    "\n",
    "train_s = tf.train.GradientDescentOptimizer(Learn_rate).minimize(cost)\n",
    "\n",
    "with tf.Session() as sess:\n",
    "    sess.run(tf.global_variables_initializer())\n",
    "\n",
    "saver = tf.train.Saver()\n",
    "for epoch in range(Epochs):\n",
    "    avg_cost = 0.\n",
    "    num_batches = int(wine.shape[0]/batch_size)\n",
    "    \n",
    "for _ in range(num_batches):\n",
    "    batch = wine.sample(n=batch_size)\n",
    "    batch_features = batch.as_matrix()[:,:13]\n",
    "\n",
    "    batch_targets = pd.get_dummies(batch.Class).as_matrix()\n",
    "\n",
    "            _, c = sess.run([train_step, cost], feed_dict={x:batch_features, y_:batch_targets})\n",
    "\n",
    "            avg_cost += c/num_batches\n",
    "\n",
    "        print(\"Epoch %04d cost: %s\" % (epoch + 1, \"{:.4f}\".format(avg_cost)))\n",
    "    \n",
    "    correct_prediction = tf.equal(tf.argmax(y,1), tf.argmax(y_,1))\n",
    "\n",
    "    accuracy = tf.reduce_mean(tf.cast(correct_prediction, tf.float32))\n",
    "\n",
    "    score = sess.run(accuracy, feed_dict={x: test_features, y_: test_targets}) * 100\n",
    "    print(\"\\nThe model correctly identified %s of the test data.\" % \"{:.2f}%\".format(score))\n",
    "\n",
    "    save_path = saver.save(sess, model_path)\n",
    "    print(\"\\nModel data saved to %s\" % model_path)"
   ]
  },
  {
   "cell_type": "code",
   "execution_count": null,
   "metadata": {
    "collapsed": true,
    "deletable": true,
    "editable": true
   },
   "outputs": [],
   "source": [
    "# Run the trained model on 'data/wine_test.csv' here.\n",
    "# Be sure to print out the accuracy!\n"
   ]
  }
 ],
 "metadata": {
  "anaconda-cloud": {},
  "kernelspec": {
   "display_name": "Python [default]",
   "language": "python",
   "name": "python3"
  }
 },
 "nbformat": 4,
 "nbformat_minor": 1
}
